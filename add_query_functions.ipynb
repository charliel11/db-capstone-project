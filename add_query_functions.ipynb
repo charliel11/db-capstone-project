{
 "cells": [
  {
   "cell_type": "code",
   "execution_count": 7,
   "metadata": {},
   "outputs": [],
   "source": [
    "import mysql.connector as connector\n",
    "\n",
    "dbconfig = {\n",
    "    \"database\":\"little_lemon_db\",\n",
    "    \"user\" : \"root\",\n",
    "    \"password\" : \"mysql\"\n",
    "}\n",
    "connection=connector.connect(**dbconfig)\n",
    "cursor=connection.cursor()"
   ]
  },
  {
   "cell_type": "code",
   "execution_count": 8,
   "metadata": {},
   "outputs": [],
   "source": [
    "show_tables_query = \"SHOW tables\" \n",
    "results = cursor.execute(show_tables_query)\n"
   ]
  },
  {
   "cell_type": "code",
   "execution_count": 9,
   "metadata": {},
   "outputs": [
    {
     "name": "stdout",
     "output_type": "stream",
     "text": [
      "bookings\n",
      "contacts\n",
      "customers\n",
      "menuitems\n",
      "menus\n",
      "orders\n",
      "ordersview\n",
      "staffs\n"
     ]
    }
   ],
   "source": [
    "tables = cursor.fetchall()\n",
    "for table in tables:\n",
    "    print(table[0])"
   ]
  },
  {
   "cell_type": "code",
   "execution_count": 10,
   "metadata": {},
   "outputs": [],
   "source": [
    "customer_join_query = '''\n",
    "    SELECT\n",
    "        c.Name AS FullName,\n",
    "        cd.Emaill AS Email,\n",
    "        cd.ContactNumber AS ContactNumber,\n",
    "        o.TotalCost AS Cost\n",
    "    FROM Customers c\n",
    "    JOIN contacts cd USING (ContactID)\n",
    "    JOIN orders o USING (CustomerID)\n",
    "    WHERE o.TotalCost > 60\n",
    "    ORDER BY o.TotalCost DESC;\n",
    "'''"
   ]
  },
  {
   "cell_type": "code",
   "execution_count": 11,
   "metadata": {},
   "outputs": [],
   "source": [
    "cursor.execute(customer_join_query)\n",
    "customers = cursor.fetchall()"
   ]
  }
 ],
 "metadata": {
  "kernelspec": {
   "display_name": "base",
   "language": "python",
   "name": "python3"
  },
  "language_info": {
   "codemirror_mode": {
    "name": "ipython",
    "version": 3
   },
   "file_extension": ".py",
   "mimetype": "text/x-python",
   "name": "python",
   "nbconvert_exporter": "python",
   "pygments_lexer": "ipython3",
   "version": "3.9.7"
  },
  "orig_nbformat": 4,
  "vscode": {
   "interpreter": {
    "hash": "873a644a663084d776727af23c5e5761f9d4ef4ea5f8929d5d1d8cf92d175248"
   }
  }
 },
 "nbformat": 4,
 "nbformat_minor": 2
}
